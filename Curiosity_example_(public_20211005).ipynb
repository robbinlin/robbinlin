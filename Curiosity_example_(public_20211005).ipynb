{
  "nbformat": 4,
  "nbformat_minor": 0,
  "metadata": {
    "colab": {
      "name": "Curiosity example (public 20211005)",
      "provenance": [],
      "collapsed_sections": [],
      "include_colab_link": true
    },
    "kernelspec": {
      "display_name": "Python 3",
      "name": "python3"
    }
  },
  "cells": [
    {
      "cell_type": "markdown",
      "metadata": {
        "id": "view-in-github",
        "colab_type": "text"
      },
      "source": [
        "<a href=\"https://colab.research.google.com/github/robbinlin/robbinlin/blob/master/Curiosity_example_(public_20211005).ipynb\" target=\"_parent\"><img src=\"https://colab.research.google.com/assets/colab-badge.svg\" alt=\"Open In Colab\"/></a>"
      ]
    },
    {
      "cell_type": "code",
      "metadata": {
        "colab": {
          "base_uri": "https://localhost:8080/"
        },
        "id": "0YGGnD-UaycI",
        "outputId": "dc8e81ff-7bd8-440b-d8d7-dcb98b2140f1"
      },
      "source": [
        "pip install factor_analyzer"
      ],
      "execution_count": null,
      "outputs": [
        {
          "output_type": "stream",
          "name": "stdout",
          "text": [
            "Collecting factor_analyzer\n",
            "  Downloading factor_analyzer-0.3.2.tar.gz (40 kB)\n",
            "\u001b[?25l\r\u001b[K     |████████▏                       | 10 kB 27.3 MB/s eta 0:00:01\r\u001b[K     |████████████████▍               | 20 kB 23.5 MB/s eta 0:00:01\r\u001b[K     |████████████████████████▌       | 30 kB 17.3 MB/s eta 0:00:01\r\u001b[K     |████████████████████████████████| 40 kB 4.7 MB/s \n",
            "\u001b[?25hRequirement already satisfied: pandas in /usr/local/lib/python3.7/dist-packages (from factor_analyzer) (1.1.5)\n",
            "Requirement already satisfied: scipy in /usr/local/lib/python3.7/dist-packages (from factor_analyzer) (1.4.1)\n",
            "Requirement already satisfied: numpy in /usr/local/lib/python3.7/dist-packages (from factor_analyzer) (1.19.5)\n",
            "Requirement already satisfied: scikit-learn in /usr/local/lib/python3.7/dist-packages (from factor_analyzer) (0.22.2.post1)\n",
            "Requirement already satisfied: python-dateutil>=2.7.3 in /usr/local/lib/python3.7/dist-packages (from pandas->factor_analyzer) (2.8.2)\n",
            "Requirement already satisfied: pytz>=2017.2 in /usr/local/lib/python3.7/dist-packages (from pandas->factor_analyzer) (2018.9)\n",
            "Requirement already satisfied: six>=1.5 in /usr/local/lib/python3.7/dist-packages (from python-dateutil>=2.7.3->pandas->factor_analyzer) (1.15.0)\n",
            "Requirement already satisfied: joblib>=0.11 in /usr/local/lib/python3.7/dist-packages (from scikit-learn->factor_analyzer) (1.0.1)\n",
            "Building wheels for collected packages: factor-analyzer\n",
            "  Building wheel for factor-analyzer (setup.py) ... \u001b[?25l\u001b[?25hdone\n",
            "  Created wheel for factor-analyzer: filename=factor_analyzer-0.3.2-py3-none-any.whl size=40395 sha256=9b493e85cc1da98eabd25b0fc339e456662e4dfef310f93413e36e6b615775ed\n",
            "  Stored in directory: /root/.cache/pip/wheels/8d/9e/4c/fd4cb92cecf157b13702cc0907e5c56ddc48e5388134dc9f1a\n",
            "Successfully built factor-analyzer\n",
            "Installing collected packages: factor-analyzer\n",
            "Successfully installed factor-analyzer-0.3.2\n"
          ]
        }
      ]
    },
    {
      "cell_type": "code",
      "metadata": {
        "id": "l1p4Y55fZVxJ"
      },
      "source": [
        "# Import required libraries\n",
        "import pandas as pd\n",
        "import numpy as np\n",
        "from factor_analyzer import FactorAnalyzer\n",
        "import matplotlib.pyplot as plt\n",
        "from sklearn.manifold import TSNE\n",
        "import sklearn.datasets, sklearn.decomposition\n",
        "from sklearn.metrics import mean_squared_error\n",
        "from sklearn.metrics import r2_score"
      ],
      "execution_count": null,
      "outputs": []
    },
    {
      "cell_type": "code",
      "metadata": {
        "colab": {
          "base_uri": "https://localhost:8080/"
        },
        "id": "uRVXqEa9dCls",
        "outputId": "20f271e2-773a-455c-c089-cd3cfaecb923"
      },
      "source": [
        "import sklearn\n",
        "from sklearn import datasets\n",
        "from sklearn.model_selection import train_test_split\n",
        "from sklearn.preprocessing import StandardScaler, MinMaxScaler\n",
        "from sklearn import decomposition\n",
        "import scipy\n",
        "%tensorflow_version 1.4\n",
        "import tensorflow as tf\n",
        "from keras.models import Model, load_model\n",
        "from keras.layers import Input, Dense, Layer, InputSpec\n",
        "from keras.callbacks import ModelCheckpoint, TensorBoard\n",
        "from keras import regularizers, activations, initializers, constraints, Sequential\n",
        "from keras import backend as K\n",
        "from keras.constraints import UnitNorm, Constraint"
      ],
      "execution_count": null,
      "outputs": [
        {
          "output_type": "stream",
          "name": "stdout",
          "text": [
            "`%tensorflow_version` only switches the major version: 1.x or 2.x.\n",
            "You set: `1.4`. This will be interpreted as: `1.x`.\n",
            "\n",
            "\n",
            "TensorFlow 1.x selected.\n"
          ]
        },
        {
          "output_type": "stream",
          "name": "stderr",
          "text": [
            "Using TensorFlow backend.\n"
          ]
        }
      ]
    },
    {
      "cell_type": "code",
      "metadata": {
        "colab": {
          "resources": {
            "http://localhost:8080/nbextensions/google.colab/files.js": {
              "data": "Ly8gQ29weXJpZ2h0IDIwMTcgR29vZ2xlIExMQwovLwovLyBMaWNlbnNlZCB1bmRlciB0aGUgQXBhY2hlIExpY2Vuc2UsIFZlcnNpb24gMi4wICh0aGUgIkxpY2Vuc2UiKTsKLy8geW91IG1heSBub3QgdXNlIHRoaXMgZmlsZSBleGNlcHQgaW4gY29tcGxpYW5jZSB3aXRoIHRoZSBMaWNlbnNlLgovLyBZb3UgbWF5IG9idGFpbiBhIGNvcHkgb2YgdGhlIExpY2Vuc2UgYXQKLy8KLy8gICAgICBodHRwOi8vd3d3LmFwYWNoZS5vcmcvbGljZW5zZXMvTElDRU5TRS0yLjAKLy8KLy8gVW5sZXNzIHJlcXVpcmVkIGJ5IGFwcGxpY2FibGUgbGF3IG9yIGFncmVlZCB0byBpbiB3cml0aW5nLCBzb2Z0d2FyZQovLyBkaXN0cmlidXRlZCB1bmRlciB0aGUgTGljZW5zZSBpcyBkaXN0cmlidXRlZCBvbiBhbiAiQVMgSVMiIEJBU0lTLAovLyBXSVRIT1VUIFdBUlJBTlRJRVMgT1IgQ09ORElUSU9OUyBPRiBBTlkgS0lORCwgZWl0aGVyIGV4cHJlc3Mgb3IgaW1wbGllZC4KLy8gU2VlIHRoZSBMaWNlbnNlIGZvciB0aGUgc3BlY2lmaWMgbGFuZ3VhZ2UgZ292ZXJuaW5nIHBlcm1pc3Npb25zIGFuZAovLyBsaW1pdGF0aW9ucyB1bmRlciB0aGUgTGljZW5zZS4KCi8qKgogKiBAZmlsZW92ZXJ2aWV3IEhlbHBlcnMgZm9yIGdvb2dsZS5jb2xhYiBQeXRob24gbW9kdWxlLgogKi8KKGZ1bmN0aW9uKHNjb3BlKSB7CmZ1bmN0aW9uIHNwYW4odGV4dCwgc3R5bGVBdHRyaWJ1dGVzID0ge30pIHsKICBjb25zdCBlbGVtZW50ID0gZG9jdW1lbnQuY3JlYXRlRWxlbWVudCgnc3BhbicpOwogIGVsZW1lbnQudGV4dENvbnRlbnQgPSB0ZXh0OwogIGZvciAoY29uc3Qga2V5IG9mIE9iamVjdC5rZXlzKHN0eWxlQXR0cmlidXRlcykpIHsKICAgIGVsZW1lbnQuc3R5bGVba2V5XSA9IHN0eWxlQXR0cmlidXRlc1trZXldOwogIH0KICByZXR1cm4gZWxlbWVudDsKfQoKLy8gTWF4IG51bWJlciBvZiBieXRlcyB3aGljaCB3aWxsIGJlIHVwbG9hZGVkIGF0IGEgdGltZS4KY29uc3QgTUFYX1BBWUxPQURfU0laRSA9IDEwMCAqIDEwMjQ7CgpmdW5jdGlvbiBfdXBsb2FkRmlsZXMoaW5wdXRJZCwgb3V0cHV0SWQpIHsKICBjb25zdCBzdGVwcyA9IHVwbG9hZEZpbGVzU3RlcChpbnB1dElkLCBvdXRwdXRJZCk7CiAgY29uc3Qgb3V0cHV0RWxlbWVudCA9IGRvY3VtZW50LmdldEVsZW1lbnRCeUlkKG91dHB1dElkKTsKICAvLyBDYWNoZSBzdGVwcyBvbiB0aGUgb3V0cHV0RWxlbWVudCB0byBtYWtlIGl0IGF2YWlsYWJsZSBmb3IgdGhlIG5leHQgY2FsbAogIC8vIHRvIHVwbG9hZEZpbGVzQ29udGludWUgZnJvbSBQeXRob24uCiAgb3V0cHV0RWxlbWVudC5zdGVwcyA9IHN0ZXBzOwoKICByZXR1cm4gX3VwbG9hZEZpbGVzQ29udGludWUob3V0cHV0SWQpOwp9CgovLyBUaGlzIGlzIHJvdWdobHkgYW4gYXN5bmMgZ2VuZXJhdG9yIChub3Qgc3VwcG9ydGVkIGluIHRoZSBicm93c2VyIHlldCksCi8vIHdoZXJlIHRoZXJlIGFyZSBtdWx0aXBsZSBhc3luY2hyb25vdXMgc3RlcHMgYW5kIHRoZSBQeXRob24gc2lkZSBpcyBnb2luZwovLyB0byBwb2xsIGZvciBjb21wbGV0aW9uIG9mIGVhY2ggc3RlcC4KLy8gVGhpcyB1c2VzIGEgUHJvbWlzZSB0byBibG9jayB0aGUgcHl0aG9uIHNpZGUgb24gY29tcGxldGlvbiBvZiBlYWNoIHN0ZXAsCi8vIHRoZW4gcGFzc2VzIHRoZSByZXN1bHQgb2YgdGhlIHByZXZpb3VzIHN0ZXAgYXMgdGhlIGlucHV0IHRvIHRoZSBuZXh0IHN0ZXAuCmZ1bmN0aW9uIF91cGxvYWRGaWxlc0NvbnRpbnVlKG91dHB1dElkKSB7CiAgY29uc3Qgb3V0cHV0RWxlbWVudCA9IGRvY3VtZW50LmdldEVsZW1lbnRCeUlkKG91dHB1dElkKTsKICBjb25zdCBzdGVwcyA9IG91dHB1dEVsZW1lbnQuc3RlcHM7CgogIGNvbnN0IG5leHQgPSBzdGVwcy5uZXh0KG91dHB1dEVsZW1lbnQubGFzdFByb21pc2VWYWx1ZSk7CiAgcmV0dXJuIFByb21pc2UucmVzb2x2ZShuZXh0LnZhbHVlLnByb21pc2UpLnRoZW4oKHZhbHVlKSA9PiB7CiAgICAvLyBDYWNoZSB0aGUgbGFzdCBwcm9taXNlIHZhbHVlIHRvIG1ha2UgaXQgYXZhaWxhYmxlIHRvIHRoZSBuZXh0CiAgICAvLyBzdGVwIG9mIHRoZSBnZW5lcmF0b3IuCiAgICBvdXRwdXRFbGVtZW50Lmxhc3RQcm9taXNlVmFsdWUgPSB2YWx1ZTsKICAgIHJldHVybiBuZXh0LnZhbHVlLnJlc3BvbnNlOwogIH0pOwp9CgovKioKICogR2VuZXJhdG9yIGZ1bmN0aW9uIHdoaWNoIGlzIGNhbGxlZCBiZXR3ZWVuIGVhY2ggYXN5bmMgc3RlcCBvZiB0aGUgdXBsb2FkCiAqIHByb2Nlc3MuCiAqIEBwYXJhbSB7c3RyaW5nfSBpbnB1dElkIEVsZW1lbnQgSUQgb2YgdGhlIGlucHV0IGZpbGUgcGlja2VyIGVsZW1lbnQuCiAqIEBwYXJhbSB7c3RyaW5nfSBvdXRwdXRJZCBFbGVtZW50IElEIG9mIHRoZSBvdXRwdXQgZGlzcGxheS4KICogQHJldHVybiB7IUl0ZXJhYmxlPCFPYmplY3Q+fSBJdGVyYWJsZSBvZiBuZXh0IHN0ZXBzLgogKi8KZnVuY3Rpb24qIHVwbG9hZEZpbGVzU3RlcChpbnB1dElkLCBvdXRwdXRJZCkgewogIGNvbnN0IGlucHV0RWxlbWVudCA9IGRvY3VtZW50LmdldEVsZW1lbnRCeUlkKGlucHV0SWQpOwogIGlucHV0RWxlbWVudC5kaXNhYmxlZCA9IGZhbHNlOwoKICBjb25zdCBvdXRwdXRFbGVtZW50ID0gZG9jdW1lbnQuZ2V0RWxlbWVudEJ5SWQob3V0cHV0SWQpOwogIG91dHB1dEVsZW1lbnQuaW5uZXJIVE1MID0gJyc7CgogIGNvbnN0IHBpY2tlZFByb21pc2UgPSBuZXcgUHJvbWlzZSgocmVzb2x2ZSkgPT4gewogICAgaW5wdXRFbGVtZW50LmFkZEV2ZW50TGlzdGVuZXIoJ2NoYW5nZScsIChlKSA9PiB7CiAgICAgIHJlc29sdmUoZS50YXJnZXQuZmlsZXMpOwogICAgfSk7CiAgfSk7CgogIGNvbnN0IGNhbmNlbCA9IGRvY3VtZW50LmNyZWF0ZUVsZW1lbnQoJ2J1dHRvbicpOwogIGlucHV0RWxlbWVudC5wYXJlbnRFbGVtZW50LmFwcGVuZENoaWxkKGNhbmNlbCk7CiAgY2FuY2VsLnRleHRDb250ZW50ID0gJ0NhbmNlbCB1cGxvYWQnOwogIGNvbnN0IGNhbmNlbFByb21pc2UgPSBuZXcgUHJvbWlzZSgocmVzb2x2ZSkgPT4gewogICAgY2FuY2VsLm9uY2xpY2sgPSAoKSA9PiB7CiAgICAgIHJlc29sdmUobnVsbCk7CiAgICB9OwogIH0pOwoKICAvLyBXYWl0IGZvciB0aGUgdXNlciB0byBwaWNrIHRoZSBmaWxlcy4KICBjb25zdCBmaWxlcyA9IHlpZWxkIHsKICAgIHByb21pc2U6IFByb21pc2UucmFjZShbcGlja2VkUHJvbWlzZSwgY2FuY2VsUHJvbWlzZV0pLAogICAgcmVzcG9uc2U6IHsKICAgICAgYWN0aW9uOiAnc3RhcnRpbmcnLAogICAgfQogIH07CgogIGNhbmNlbC5yZW1vdmUoKTsKCiAgLy8gRGlzYWJsZSB0aGUgaW5wdXQgZWxlbWVudCBzaW5jZSBmdXJ0aGVyIHBpY2tzIGFyZSBub3QgYWxsb3dlZC4KICBpbnB1dEVsZW1lbnQuZGlzYWJsZWQgPSB0cnVlOwoKICBpZiAoIWZpbGVzKSB7CiAgICByZXR1cm4gewogICAgICByZXNwb25zZTogewogICAgICAgIGFjdGlvbjogJ2NvbXBsZXRlJywKICAgICAgfQogICAgfTsKICB9CgogIGZvciAoY29uc3QgZmlsZSBvZiBmaWxlcykgewogICAgY29uc3QgbGkgPSBkb2N1bWVudC5jcmVhdGVFbGVtZW50KCdsaScpOwogICAgbGkuYXBwZW5kKHNwYW4oZmlsZS5uYW1lLCB7Zm9udFdlaWdodDogJ2JvbGQnfSkpOwogICAgbGkuYXBwZW5kKHNwYW4oCiAgICAgICAgYCgke2ZpbGUudHlwZSB8fCAnbi9hJ30pIC0gJHtmaWxlLnNpemV9IGJ5dGVzLCBgICsKICAgICAgICBgbGFzdCBtb2RpZmllZDogJHsKICAgICAgICAgICAgZmlsZS5sYXN0TW9kaWZpZWREYXRlID8gZmlsZS5sYXN0TW9kaWZpZWREYXRlLnRvTG9jYWxlRGF0ZVN0cmluZygpIDoKICAgICAgICAgICAgICAgICAgICAgICAgICAgICAgICAgICAgJ24vYSd9IC0gYCkpOwogICAgY29uc3QgcGVyY2VudCA9IHNwYW4oJzAlIGRvbmUnKTsKICAgIGxpLmFwcGVuZENoaWxkKHBlcmNlbnQpOwoKICAgIG91dHB1dEVsZW1lbnQuYXBwZW5kQ2hpbGQobGkpOwoKICAgIGNvbnN0IGZpbGVEYXRhUHJvbWlzZSA9IG5ldyBQcm9taXNlKChyZXNvbHZlKSA9PiB7CiAgICAgIGNvbnN0IHJlYWRlciA9IG5ldyBGaWxlUmVhZGVyKCk7CiAgICAgIHJlYWRlci5vbmxvYWQgPSAoZSkgPT4gewogICAgICAgIHJlc29sdmUoZS50YXJnZXQucmVzdWx0KTsKICAgICAgfTsKICAgICAgcmVhZGVyLnJlYWRBc0FycmF5QnVmZmVyKGZpbGUpOwogICAgfSk7CiAgICAvLyBXYWl0IGZvciB0aGUgZGF0YSB0byBiZSByZWFkeS4KICAgIGxldCBmaWxlRGF0YSA9IHlpZWxkIHsKICAgICAgcHJvbWlzZTogZmlsZURhdGFQcm9taXNlLAogICAgICByZXNwb25zZTogewogICAgICAgIGFjdGlvbjogJ2NvbnRpbnVlJywKICAgICAgfQogICAgfTsKCiAgICAvLyBVc2UgYSBjaHVua2VkIHNlbmRpbmcgdG8gYXZvaWQgbWVzc2FnZSBzaXplIGxpbWl0cy4gU2VlIGIvNjIxMTU2NjAuCiAgICBsZXQgcG9zaXRpb24gPSAwOwogICAgZG8gewogICAgICBjb25zdCBsZW5ndGggPSBNYXRoLm1pbihmaWxlRGF0YS5ieXRlTGVuZ3RoIC0gcG9zaXRpb24sIE1BWF9QQVlMT0FEX1NJWkUpOwogICAgICBjb25zdCBjaHVuayA9IG5ldyBVaW50OEFycmF5KGZpbGVEYXRhLCBwb3NpdGlvbiwgbGVuZ3RoKTsKICAgICAgcG9zaXRpb24gKz0gbGVuZ3RoOwoKICAgICAgY29uc3QgYmFzZTY0ID0gYnRvYShTdHJpbmcuZnJvbUNoYXJDb2RlLmFwcGx5KG51bGwsIGNodW5rKSk7CiAgICAgIHlpZWxkIHsKICAgICAgICByZXNwb25zZTogewogICAgICAgICAgYWN0aW9uOiAnYXBwZW5kJywKICAgICAgICAgIGZpbGU6IGZpbGUubmFtZSwKICAgICAgICAgIGRhdGE6IGJhc2U2NCwKICAgICAgICB9LAogICAgICB9OwoKICAgICAgbGV0IHBlcmNlbnREb25lID0gZmlsZURhdGEuYnl0ZUxlbmd0aCA9PT0gMCA/CiAgICAgICAgICAxMDAgOgogICAgICAgICAgTWF0aC5yb3VuZCgocG9zaXRpb24gLyBmaWxlRGF0YS5ieXRlTGVuZ3RoKSAqIDEwMCk7CiAgICAgIHBlcmNlbnQudGV4dENvbnRlbnQgPSBgJHtwZXJjZW50RG9uZX0lIGRvbmVgOwoKICAgIH0gd2hpbGUgKHBvc2l0aW9uIDwgZmlsZURhdGEuYnl0ZUxlbmd0aCk7CiAgfQoKICAvLyBBbGwgZG9uZS4KICB5aWVsZCB7CiAgICByZXNwb25zZTogewogICAgICBhY3Rpb246ICdjb21wbGV0ZScsCiAgICB9CiAgfTsKfQoKc2NvcGUuZ29vZ2xlID0gc2NvcGUuZ29vZ2xlIHx8IHt9OwpzY29wZS5nb29nbGUuY29sYWIgPSBzY29wZS5nb29nbGUuY29sYWIgfHwge307CnNjb3BlLmdvb2dsZS5jb2xhYi5fZmlsZXMgPSB7CiAgX3VwbG9hZEZpbGVzLAogIF91cGxvYWRGaWxlc0NvbnRpbnVlLAp9Owp9KShzZWxmKTsK",
              "ok": true,
              "headers": [
                [
                  "content-type",
                  "application/javascript"
                ]
              ],
              "status": 200,
              "status_text": ""
            }
          },
          "base_uri": "https://localhost:8080/",
          "height": 76
        },
        "id": "WfPX3WycZrYP",
        "outputId": "a820b9f4-b4d2-4428-aa92-b3fdfc1eafeb"
      },
      "source": [
        "from google.colab import files\n",
        "uploaded = files.upload()"
      ],
      "execution_count": null,
      "outputs": [
        {
          "output_type": "display_data",
          "data": {
            "text/html": [
              "\n",
              "     <input type=\"file\" id=\"files-bd595f80-234b-47e4-b083-a0d9072dac63\" name=\"files[]\" multiple disabled\n",
              "        style=\"border:none\" />\n",
              "     <output id=\"result-bd595f80-234b-47e4-b083-a0d9072dac63\">\n",
              "      Upload widget is only available when the cell has been executed in the\n",
              "      current browser session. Please rerun this cell to enable.\n",
              "      </output>\n",
              "      <script src=\"/nbextensions/google.colab/files.js\"></script> "
            ],
            "text/plain": [
              "<IPython.core.display.HTML object>"
            ]
          },
          "metadata": {}
        },
        {
          "output_type": "stream",
          "name": "stdout",
          "text": [
            "Saving curiosity.csv to curiosity.csv\n"
          ]
        }
      ]
    },
    {
      "cell_type": "code",
      "metadata": {
        "colab": {
          "base_uri": "https://localhost:8080/",
          "height": 423
        },
        "id": "6cQS3BZPGcd_",
        "outputId": "90b66212-edc0-4e8d-ddf4-2f039a17ec4d"
      },
      "source": [
        "import io\n",
        "df = pd.read_csv(io.StringIO(uploaded['curiosity.csv'].decode('utf-8')))\n",
        "df"
      ],
      "execution_count": null,
      "outputs": [
        {
          "output_type": "execute_result",
          "data": {
            "text/html": [
              "<div>\n",
              "<style scoped>\n",
              "    .dataframe tbody tr th:only-of-type {\n",
              "        vertical-align: middle;\n",
              "    }\n",
              "\n",
              "    .dataframe tbody tr th {\n",
              "        vertical-align: top;\n",
              "    }\n",
              "\n",
              "    .dataframe thead th {\n",
              "        text-align: right;\n",
              "    }\n",
              "</style>\n",
              "<table border=\"1\" class=\"dataframe\">\n",
              "  <thead>\n",
              "    <tr style=\"text-align: right;\">\n",
              "      <th></th>\n",
              "      <th>C1</th>\n",
              "      <th>C2</th>\n",
              "      <th>C3</th>\n",
              "      <th>C4</th>\n",
              "      <th>C5</th>\n",
              "      <th>C6</th>\n",
              "      <th>C7</th>\n",
              "      <th>C8</th>\n",
              "      <th>C9</th>\n",
              "      <th>C10</th>\n",
              "      <th>C11</th>\n",
              "    </tr>\n",
              "  </thead>\n",
              "  <tbody>\n",
              "    <tr>\n",
              "      <th>0</th>\n",
              "      <td>4</td>\n",
              "      <td>5</td>\n",
              "      <td>5</td>\n",
              "      <td>4</td>\n",
              "      <td>2</td>\n",
              "      <td>5</td>\n",
              "      <td>5</td>\n",
              "      <td>5</td>\n",
              "      <td>5</td>\n",
              "      <td>4</td>\n",
              "      <td>5</td>\n",
              "    </tr>\n",
              "    <tr>\n",
              "      <th>1</th>\n",
              "      <td>3</td>\n",
              "      <td>5</td>\n",
              "      <td>4</td>\n",
              "      <td>5</td>\n",
              "      <td>4</td>\n",
              "      <td>5</td>\n",
              "      <td>5</td>\n",
              "      <td>5</td>\n",
              "      <td>3</td>\n",
              "      <td>2</td>\n",
              "      <td>2</td>\n",
              "    </tr>\n",
              "    <tr>\n",
              "      <th>2</th>\n",
              "      <td>1</td>\n",
              "      <td>4</td>\n",
              "      <td>5</td>\n",
              "      <td>4</td>\n",
              "      <td>2</td>\n",
              "      <td>3</td>\n",
              "      <td>3</td>\n",
              "      <td>5</td>\n",
              "      <td>5</td>\n",
              "      <td>5</td>\n",
              "      <td>3</td>\n",
              "    </tr>\n",
              "    <tr>\n",
              "      <th>3</th>\n",
              "      <td>2</td>\n",
              "      <td>4</td>\n",
              "      <td>5</td>\n",
              "      <td>5</td>\n",
              "      <td>2</td>\n",
              "      <td>4</td>\n",
              "      <td>2</td>\n",
              "      <td>4</td>\n",
              "      <td>3</td>\n",
              "      <td>1</td>\n",
              "      <td>3</td>\n",
              "    </tr>\n",
              "    <tr>\n",
              "      <th>4</th>\n",
              "      <td>5</td>\n",
              "      <td>5</td>\n",
              "      <td>5</td>\n",
              "      <td>5</td>\n",
              "      <td>5</td>\n",
              "      <td>5</td>\n",
              "      <td>5</td>\n",
              "      <td>5</td>\n",
              "      <td>4</td>\n",
              "      <td>5</td>\n",
              "      <td>4</td>\n",
              "    </tr>\n",
              "    <tr>\n",
              "      <th>...</th>\n",
              "      <td>...</td>\n",
              "      <td>...</td>\n",
              "      <td>...</td>\n",
              "      <td>...</td>\n",
              "      <td>...</td>\n",
              "      <td>...</td>\n",
              "      <td>...</td>\n",
              "      <td>...</td>\n",
              "      <td>...</td>\n",
              "      <td>...</td>\n",
              "      <td>...</td>\n",
              "    </tr>\n",
              "    <tr>\n",
              "      <th>415</th>\n",
              "      <td>3</td>\n",
              "      <td>5</td>\n",
              "      <td>5</td>\n",
              "      <td>5</td>\n",
              "      <td>4</td>\n",
              "      <td>5</td>\n",
              "      <td>5</td>\n",
              "      <td>5</td>\n",
              "      <td>2</td>\n",
              "      <td>3</td>\n",
              "      <td>3</td>\n",
              "    </tr>\n",
              "    <tr>\n",
              "      <th>416</th>\n",
              "      <td>2</td>\n",
              "      <td>5</td>\n",
              "      <td>5</td>\n",
              "      <td>5</td>\n",
              "      <td>4</td>\n",
              "      <td>4</td>\n",
              "      <td>4</td>\n",
              "      <td>4</td>\n",
              "      <td>3</td>\n",
              "      <td>4</td>\n",
              "      <td>5</td>\n",
              "    </tr>\n",
              "    <tr>\n",
              "      <th>417</th>\n",
              "      <td>4</td>\n",
              "      <td>2</td>\n",
              "      <td>4</td>\n",
              "      <td>4</td>\n",
              "      <td>2</td>\n",
              "      <td>3</td>\n",
              "      <td>3</td>\n",
              "      <td>3</td>\n",
              "      <td>3</td>\n",
              "      <td>3</td>\n",
              "      <td>3</td>\n",
              "    </tr>\n",
              "    <tr>\n",
              "      <th>418</th>\n",
              "      <td>3</td>\n",
              "      <td>4</td>\n",
              "      <td>5</td>\n",
              "      <td>4</td>\n",
              "      <td>3</td>\n",
              "      <td>4</td>\n",
              "      <td>5</td>\n",
              "      <td>4</td>\n",
              "      <td>2</td>\n",
              "      <td>2</td>\n",
              "      <td>4</td>\n",
              "    </tr>\n",
              "    <tr>\n",
              "      <th>419</th>\n",
              "      <td>1</td>\n",
              "      <td>4</td>\n",
              "      <td>5</td>\n",
              "      <td>4</td>\n",
              "      <td>2</td>\n",
              "      <td>4</td>\n",
              "      <td>5</td>\n",
              "      <td>5</td>\n",
              "      <td>5</td>\n",
              "      <td>5</td>\n",
              "      <td>5</td>\n",
              "    </tr>\n",
              "  </tbody>\n",
              "</table>\n",
              "<p>420 rows × 11 columns</p>\n",
              "</div>"
            ],
            "text/plain": [
              "     C1  C2  C3  C4  C5  C6  C7  C8  C9  C10  C11\n",
              "0     4   5   5   4   2   5   5   5   5    4    5\n",
              "1     3   5   4   5   4   5   5   5   3    2    2\n",
              "2     1   4   5   4   2   3   3   5   5    5    3\n",
              "3     2   4   5   5   2   4   2   4   3    1    3\n",
              "4     5   5   5   5   5   5   5   5   4    5    4\n",
              "..   ..  ..  ..  ..  ..  ..  ..  ..  ..  ...  ...\n",
              "415   3   5   5   5   4   5   5   5   2    3    3\n",
              "416   2   5   5   5   4   4   4   4   3    4    5\n",
              "417   4   2   4   4   2   3   3   3   3    3    3\n",
              "418   3   4   5   4   3   4   5   4   2    2    4\n",
              "419   1   4   5   4   2   4   5   5   5    5    5\n",
              "\n",
              "[420 rows x 11 columns]"
            ]
          },
          "metadata": {},
          "execution_count": 5
        }
      ]
    },
    {
      "cell_type": "code",
      "metadata": {
        "colab": {
          "base_uri": "https://localhost:8080/"
        },
        "id": "cLPMQmuvZwor",
        "outputId": "26970929-dd31-45b9-bfbe-3e06eea19efc"
      },
      "source": [
        "df.columns"
      ],
      "execution_count": null,
      "outputs": [
        {
          "output_type": "execute_result",
          "data": {
            "text/plain": [
              "Index(['C1', 'C2', 'C3', 'C4', 'C5', 'C6', 'C7', 'C8', 'C9', 'C10', 'C11'], dtype='object')"
            ]
          },
          "metadata": {},
          "execution_count": 6
        }
      ]
    },
    {
      "cell_type": "code",
      "metadata": {
        "id": "s2kVmIFyZwr3"
      },
      "source": [
        "# Dropping missing values rows\n",
        "df.dropna(inplace=True)"
      ],
      "execution_count": null,
      "outputs": []
    },
    {
      "cell_type": "code",
      "metadata": {
        "colab": {
          "base_uri": "https://localhost:8080/"
        },
        "id": "1Qklk_WpZwud",
        "outputId": "81db676d-7876-40eb-890c-50d24fa04b46"
      },
      "source": [
        "df.info()"
      ],
      "execution_count": null,
      "outputs": [
        {
          "output_type": "stream",
          "name": "stdout",
          "text": [
            "<class 'pandas.core.frame.DataFrame'>\n",
            "Int64Index: 420 entries, 0 to 419\n",
            "Data columns (total 11 columns):\n",
            " #   Column  Non-Null Count  Dtype\n",
            "---  ------  --------------  -----\n",
            " 0   C1      420 non-null    int64\n",
            " 1   C2      420 non-null    int64\n",
            " 2   C3      420 non-null    int64\n",
            " 3   C4      420 non-null    int64\n",
            " 4   C5      420 non-null    int64\n",
            " 5   C6      420 non-null    int64\n",
            " 6   C7      420 non-null    int64\n",
            " 7   C8      420 non-null    int64\n",
            " 8   C9      420 non-null    int64\n",
            " 9   C10     420 non-null    int64\n",
            " 10  C11     420 non-null    int64\n",
            "dtypes: int64(11)\n",
            "memory usage: 39.4 KB\n"
          ]
        }
      ]
    },
    {
      "cell_type": "code",
      "metadata": {
        "colab": {
          "base_uri": "https://localhost:8080/"
        },
        "id": "A8jWmTKjZwy1",
        "outputId": "d9bf1571-c6dc-4efd-b03f-882bd846b7a3"
      },
      "source": [
        "# Create factor analysis object and perform factor analysis\n",
        "fa = FactorAnalyzer(rotation=None)\n",
        "fa.fit(df, 11)\n",
        "# Check Eigenvalues\n",
        "ev, v = fa.get_eigenvalues()\n",
        "ev"
      ],
      "execution_count": null,
      "outputs": [
        {
          "output_type": "execute_result",
          "data": {
            "text/plain": [
              "array([5.29844338, 1.61219085, 0.9478248 , 0.72411375, 0.54923999,\n",
              "       0.47443823, 0.42359809, 0.31432479, 0.26272132, 0.25480483,\n",
              "       0.13829996])"
            ]
          },
          "metadata": {},
          "execution_count": 9
        }
      ]
    },
    {
      "cell_type": "code",
      "metadata": {
        "colab": {
          "base_uri": "https://localhost:8080/",
          "height": 295
        },
        "id": "eaErIyctZw19",
        "outputId": "13cae12a-9774-4a0a-92fc-0f0816179e78"
      },
      "source": [
        "# Create scree plot using matplotlib\n",
        "plt.scatter(range(1,df.shape[1]+1),ev)\n",
        "plt.plot(range(1,df.shape[1]+1),ev)\n",
        "plt.title('Scree Plot')\n",
        "plt.xlabel('Factors')\n",
        "plt.ylabel('Eigenvalue')\n",
        "plt.grid()\n",
        "plt.show()\n"
      ],
      "execution_count": null,
      "outputs": [
        {
          "output_type": "display_data",
          "data": {
            "image/png": "[encoded data removed]",
            "text/plain": [
              "<Figure size 432x288 with 1 Axes>"
            ]
          },
          "metadata": {
            "needs_background": "light"
          }
        }
      ]
    },
    {
      "cell_type": "code",
      "metadata": {
        "id": "_hmPdN-Rcsjt"
      },
      "source": [
        "from sklearn.preprocessing import StandardScaler\n",
        "scaler = StandardScaler()\n",
        "scaler.fit(df)\n",
        "scaled_data = scaler.transform(df)"
      ],
      "execution_count": null,
      "outputs": []
    },
    {
      "cell_type": "markdown",
      "metadata": {
        "id": "pqrmfi0CGx0-"
      },
      "source": [
        "PCA on 420 cases"
      ]
    },
    {
      "cell_type": "code",
      "metadata": {
        "colab": {
          "base_uri": "https://localhost:8080/"
        },
        "id": "QRTA1xC_G2U-",
        "outputId": "c4cbf44b-57dd-4b96-ad5b-b857ee7c285d"
      },
      "source": [
        "import numpy as np\n",
        "import sklearn.datasets, sklearn.decomposition\n",
        "\n",
        "\n",
        "mu = np.mean(scaled_data, axis=0)\n",
        "\n",
        "pca = sklearn.decomposition.PCA()\n",
        "pca_fit=pca.fit_transform(scaled_data)\n",
        "print(pca_fit)\n",
        "nComp = 3\n",
        "Xhat = np.dot(pca.transform(scaled_data)[:,:nComp], pca.components_[:nComp,:])\n",
        "Xhat += mu\n",
        "print(Xhat[0:3,])\n",
        "print(scaled_data.shape)\n",
        "print(Xhat.shape)\n",
        "\n",
        "scaled_data=pd.DataFrame(data=scaled_data)\n",
        "\n",
        "Xhat_argmax=Xhat[:,0:3].argmax(axis=1)\n",
        "print(Xhat_argmax)\n",
        "\n",
        "\n",
        "\n",
        "print (Xhat)\n",
        "mse = mean_squared_error(scaled_data[0:419],Xhat[0:419] )\n",
        "print(mse)\n",
        "r2=r2_score(scaled_data[0:419],Xhat[0:419])\n",
        "print(r2)"
      ],
      "execution_count": null,
      "outputs": [
        {
          "output_type": "stream",
          "name": "stdout",
          "text": [
            "[[-1.65817925  0.95388636  0.4955272  ...  0.61539834  0.01424399\n",
            "  -0.03251031]\n",
            " [-0.72473547 -1.6990825   0.18081158 ...  0.16682561 -0.17409021\n",
            "   0.13751046]\n",
            " [ 0.97601266  1.58524118  2.05324669 ... -0.49199211  1.16792128\n",
            "   0.14808121]\n",
            " ...\n",
            " [ 3.00156058  0.51287448 -0.9224719  ...  0.05385645 -0.62204444\n",
            "  -0.20378558]\n",
            " [ 0.48326735 -0.96137303 -0.18460389 ...  0.551166   -0.34829892\n",
            "  -0.9838479 ]\n",
            " [-0.56349856  1.98271727  2.0849606  ...  0.10737409  0.31848779\n",
            "  -0.70971303]]\n",
            "[[-0.1011546   0.4405421   0.36618154  0.5143873   0.22093012  0.48735122\n",
            "   0.53534857  0.58817177  0.90929688  0.92879248  0.8328687 ]\n",
            " [ 0.26865606  0.47003242  0.69837617  0.56120005  0.18012016  0.48465789\n",
            "   0.45512186  0.56326162 -0.59356365 -0.8740988  -0.66402687]\n",
            " [-1.91466093 -0.42211405 -0.32769794 -0.03863379 -1.34877816 -0.55276677\n",
            "  -0.34819145  0.01444385  0.90992747  0.73797634  0.33113507]]\n",
            "(420, 11)\n",
            "(420, 11)\n",
            "[1 2 2 2 0 1 0 0 0 2 0 1 2 2 0 1 2 0 2 1 0 0 0 0 1 2 0 2 2 0 0 0 0 2 0 0 2\n",
            " 1 2 2 0 2 1 1 0 0 0 0 0 0 0 0 0 0 2 0 2 2 0 0 1 2 0 0 0 2 1 2 0 1 0 0 1 0\n",
            " 0 0 0 2 2 1 0 0 0 1 2 0 1 0 2 2 2 2 2 2 1 0 2 0 0 1 1 2 0 0 0 2 2 0 2 0 2\n",
            " 2 2 2 0 0 2 0 0 0 2 0 1 1 2 2 2 2 2 0 1 1 2 2 1 2 2 2 2 1 0 0 0 2 0 1 2 0\n",
            " 2 0 0 1 2 0 2 2 0 2 2 0 0 0 2 2 0 2 2 2 0 2 0 1 1 0 0 0 1 0 2 0 0 1 1 2 0\n",
            " 2 0 0 2 0 0 0 2 2 1 0 2 2 0 0 1 2 1 0 2 1 0 0 2 0 0 0 2 0 0 2 2 2 0 1 1 2\n",
            " 1 0 1 0 0 0 0 0 2 1 2 2 0 2 0 0 0 2 2 0 0 2 1 0 1 0 2 0 2 0 0 0 0 2 0 0 1\n",
            " 0 0 0 2 2 2 0 2 2 0 2 1 2 2 2 0 2 2 0 0 0 1 0 0 0 1 1 0 2 1 0 2 2 0 1 0 0\n",
            " 1 2 0 0 0 2 0 2 0 0 0 0 1 2 0 0 2 0 0 0 0 1 0 2 0 0 2 0 0 0 2 0 2 1 2 0 0\n",
            " 0 0 1 0 2 2 0 1 2 0 1 0 0 2 0 0 1 0 0 1 1 0 0 2 0 2 0 2 2 1 1 0 0 1 0 2 2\n",
            " 0 0 2 2 0 0 2 2 1 0 2 0 0 0 2 0 0 0 2 0 2 1 2 0 2 2 0 0 0 2 0 1 0 1 2 1 2\n",
            " 0 0 1 2 0 1 0 0 2 1 0 0 2]\n",
            "[[-0.1011546   0.4405421   0.36618154 ...  0.90929688  0.92879248\n",
            "   0.8328687 ]\n",
            " [ 0.26865606  0.47003242  0.69837617 ... -0.59356365 -0.8740988\n",
            "  -0.66402687]\n",
            " [-1.91466093 -0.42211405 -0.32769794 ...  0.90992747  0.73797634\n",
            "   0.33113507]\n",
            " ...\n",
            " [-0.10257063 -1.09439589 -1.24451875 ... -0.60917981 -0.32608484\n",
            "  -0.41346245]\n",
            " [ 0.15107191 -0.04025081  0.06175136 ... -0.59050708 -0.68391303\n",
            "  -0.57199775]\n",
            " [-1.63491479  0.02931408  0.05749554 ...  1.44551097  1.30754134\n",
            "   0.90756064]]\n",
            "0.28587759034136295\n",
            "0.7142173950135248\n"
          ]
        }
      ]
    },
    {
      "cell_type": "code",
      "metadata": {
        "colab": {
          "base_uri": "https://localhost:8080/",
          "height": 773
        },
        "id": "lC5evzzuMsu4",
        "outputId": "643fc771-7a89-4952-8967-8b553d00d06d"
      },
      "source": [
        "pca_3f = decomposition.PCA(n_components=3)\n",
        "pca_3f_fit = pca_3f.fit_transform(scaled_data)\n",
        "\n",
        "output_fit=pd.DataFrame(data=pca_3f_fit)\n",
        "print(output_fit)\n",
        "\n",
        "print(pca_3f.components_.shape)\n",
        "print(pca_3f.components_)\n",
        "loadings = pd.DataFrame(pca_3f.components_.T, columns=['PC1', 'PC2','PC3'])\n",
        "loadings"
      ],
      "execution_count": null,
      "outputs": [
        {
          "output_type": "stream",
          "name": "stdout",
          "text": [
            "            0         1         2\n",
            "0   -1.658179  0.953886  0.495527\n",
            "1   -0.724735 -1.699082  0.180812\n",
            "2    0.976013  1.585241  2.053247\n",
            "3    1.885772 -1.099359  1.043249\n",
            "4   -2.729982  0.272096 -1.142828\n",
            "..        ...       ...       ...\n",
            "415 -1.230432 -1.545551  0.146751\n",
            "416 -0.593222  0.581991  0.259287\n",
            "417  3.001561  0.512874 -0.922472\n",
            "418  0.483267 -0.961373 -0.184604\n",
            "419 -0.563499  1.982717  2.084961\n",
            "\n",
            "[420 rows x 3 columns]\n",
            "(3, 11)\n",
            "[[-0.23153726 -0.32625089 -0.31283741 -0.32584593 -0.297962   -0.36654688\n",
            "  -0.35902019 -0.35388586 -0.2238837  -0.21387834 -0.25054243]\n",
            " [-0.13572772 -0.1320065  -0.25758753 -0.16340191 -0.03118659 -0.12845155\n",
            "  -0.10590852 -0.14961809  0.46511174  0.60503907  0.48746789]\n",
            " [-0.71765194  0.05141763  0.18798214  0.2622322  -0.4911856   0.00419546\n",
            "   0.08284799  0.29076959  0.19049172 -0.00604338 -0.09598775]]\n"
          ]
        },
        {
          "output_type": "execute_result",
          "data": {
            "text/html": [
              "<div>\n",
              "<style scoped>\n",
              "    .dataframe tbody tr th:only-of-type {\n",
              "        vertical-align: middle;\n",
              "    }\n",
              "\n",
              "    .dataframe tbody tr th {\n",
              "        vertical-align: top;\n",
              "    }\n",
              "\n",
              "    .dataframe thead th {\n",
              "        text-align: right;\n",
              "    }\n",
              "</style>\n",
              "<table border=\"1\" class=\"dataframe\">\n",
              "  <thead>\n",
              "    <tr style=\"text-align: right;\">\n",
              "      <th></th>\n",
              "      <th>PC1</th>\n",
              "      <th>PC2</th>\n",
              "      <th>PC3</th>\n",
              "    </tr>\n",
              "  </thead>\n",
              "  <tbody>\n",
              "    <tr>\n",
              "      <th>0</th>\n",
              "      <td>-0.231537</td>\n",
              "      <td>-0.135728</td>\n",
              "      <td>-0.717652</td>\n",
              "    </tr>\n",
              "    <tr>\n",
              "      <th>1</th>\n",
              "      <td>-0.326251</td>\n",
              "      <td>-0.132006</td>\n",
              "      <td>0.051418</td>\n",
              "    </tr>\n",
              "    <tr>\n",
              "      <th>2</th>\n",
              "      <td>-0.312837</td>\n",
              "      <td>-0.257588</td>\n",
              "      <td>0.187982</td>\n",
              "    </tr>\n",
              "    <tr>\n",
              "      <th>3</th>\n",
              "      <td>-0.325846</td>\n",
              "      <td>-0.163402</td>\n",
              "      <td>0.262232</td>\n",
              "    </tr>\n",
              "    <tr>\n",
              "      <th>4</th>\n",
              "      <td>-0.297962</td>\n",
              "      <td>-0.031187</td>\n",
              "      <td>-0.491186</td>\n",
              "    </tr>\n",
              "    <tr>\n",
              "      <th>5</th>\n",
              "      <td>-0.366547</td>\n",
              "      <td>-0.128452</td>\n",
              "      <td>0.004195</td>\n",
              "    </tr>\n",
              "    <tr>\n",
              "      <th>6</th>\n",
              "      <td>-0.359020</td>\n",
              "      <td>-0.105909</td>\n",
              "      <td>0.082848</td>\n",
              "    </tr>\n",
              "    <tr>\n",
              "      <th>7</th>\n",
              "      <td>-0.353886</td>\n",
              "      <td>-0.149618</td>\n",
              "      <td>0.290770</td>\n",
              "    </tr>\n",
              "    <tr>\n",
              "      <th>8</th>\n",
              "      <td>-0.223884</td>\n",
              "      <td>0.465112</td>\n",
              "      <td>0.190492</td>\n",
              "    </tr>\n",
              "    <tr>\n",
              "      <th>9</th>\n",
              "      <td>-0.213878</td>\n",
              "      <td>0.605039</td>\n",
              "      <td>-0.006043</td>\n",
              "    </tr>\n",
              "    <tr>\n",
              "      <th>10</th>\n",
              "      <td>-0.250542</td>\n",
              "      <td>0.487468</td>\n",
              "      <td>-0.095988</td>\n",
              "    </tr>\n",
              "  </tbody>\n",
              "</table>\n",
              "</div>"
            ],
            "text/plain": [
              "         PC1       PC2       PC3\n",
              "0  -0.231537 -0.135728 -0.717652\n",
              "1  -0.326251 -0.132006  0.051418\n",
              "2  -0.312837 -0.257588  0.187982\n",
              "3  -0.325846 -0.163402  0.262232\n",
              "4  -0.297962 -0.031187 -0.491186\n",
              "5  -0.366547 -0.128452  0.004195\n",
              "6  -0.359020 -0.105909  0.082848\n",
              "7  -0.353886 -0.149618  0.290770\n",
              "8  -0.223884  0.465112  0.190492\n",
              "9  -0.213878  0.605039 -0.006043\n",
              "10 -0.250542  0.487468 -0.095988"
            ]
          },
          "metadata": {},
          "execution_count": 13
        }
      ]
    },
    {
      "cell_type": "markdown",
      "metadata": {
        "id": "flYiNeP5SiLf"
      },
      "source": [
        "Full data visualization"
      ]
    },
    {
      "cell_type": "code",
      "metadata": {
        "id": "wic2xWFVSZi7"
      },
      "source": [
        "\n",
        "# scaled_data['max_loading'] = Xhat[:,0:3].argmax(axis=1)\n",
        "# scaled_data['max_class'] = np.expand_dims(Xhat_argmax, axis=1)\n",
        "# scaled_data['predicted_class']=scaled_data['max_class']\n",
        "# scaled_data['predicted_class'].value_counts()\n",
        "\n",
        "# from numpy.random import seed\n",
        "# seed(12345678)\n",
        "# from tensorflow import set_random_seed\n",
        "# set_random_seed(2)\n",
        "\n",
        "# model_tsne_auto = TSNE(learning_rate = 200, n_components = 2, random_state =None, perplexity = 90, n_iter = 1000, verbose = 1)\n",
        "# X_2d =  model_tsne_auto.fit_transform(pca_fit)\n",
        "# prediction_en= pd.DataFrame(data=pca_fit)\n",
        "# # # Visualize the data\n",
        "# plt.scatter(-X_2d[:, 0], -X_2d[:, 1], c =scaled_data['predicted_class'], cmap = 'tab20') \n",
        "# plt.title('tSNE on PCA: n=420') \n",
        "# plt.xlabel(\"tSNE1\") \n",
        "# plt.ylabel(\"tSNE2\")\n",
        "\n",
        "# #print(scaled_data[0:100])\n"
      ],
      "execution_count": null,
      "outputs": []
    },
    {
      "cell_type": "markdown",
      "metadata": {
        "id": "iQIPP2-BLII3"
      },
      "source": [
        "encoder on n=420"
      ]
    },
    {
      "cell_type": "code",
      "metadata": {
        "colab": {
          "base_uri": "https://localhost:8080/"
        },
        "id": "4-05lqohdwUa",
        "outputId": "b42603ff-3cd0-4afa-c1f5-f2e43a1f1bd1"
      },
      "source": [
        "from numpy.random import seed\n",
        "seed(12345678)\n",
        "import tensorflow\n",
        "print(tensorflow.__version__)\n",
        "tensorflow.random.set_random_seed(2)\n",
        "\n",
        "nb_epoch = 100\n",
        "batch_size = 16\n",
        "#sample1=scaled_data[0:100]\n",
        "sample1=pd.DataFrame(data=scaled_data)\n",
        "input_dim = sample1.shape[1] #num of predictor variables, \n",
        "encoding_dim = 3\n",
        "learning_rate = 1e-3"
      ],
      "execution_count": null,
      "outputs": [
        {
          "output_type": "stream",
          "name": "stdout",
          "text": [
            "1.15.2\n"
          ]
        }
      ]
    },
    {
      "cell_type": "code",
      "metadata": {
        "colab": {
          "base_uri": "https://localhost:8080/"
        },
        "id": "3NcaDrTZdwdL",
        "outputId": "f889ec21-a977-45d7-f250-33a186f30a24"
      },
      "source": [
        "encoder = Dense(encoding_dim, activation=\"linear\", input_shape=(input_dim,), use_bias = True) \n",
        "decoder = Dense(input_dim, activation=\"linear\", use_bias = True)\n",
        "\n",
        "deepautoencoder = Sequential()\n",
        "\n",
        "# Encoder Layers\n",
        "deepautoencoder.add(Dense( 2*encoding_dim, input_shape=(input_dim,), activation='linear'))\n",
        "deepautoencoder.add(Dense( 2*encoding_dim, activation='linear'))\n",
        "\n",
        "# Decoder Layers\n",
        "deepautoencoder.add(Dense( encoding_dim, activation='linear',name = \"bottleneck\"))\n",
        "deepautoencoder.add(Dense( 2 *encoding_dim, activation='linear'))\n",
        "deepautoencoder.add(Dense(2 * encoding_dim, activation='linear'))\n",
        "\n",
        "deepautoencoder.add(Dense(input_dim, activation='linear'))\n",
        "deepautoencoder.compile(metrics=['accuracy'],loss='mean_squared_error',optimizer='sgd')\n",
        "deepautoencoder.summary()\n",
        "\n",
        "deepautoencoder.fit(sample1, sample1,\n",
        "                epochs=nb_epoch,\n",
        "                batch_size=batch_size,\n",
        "                shuffle=False,\n",
        "                verbose=0)\n",
        "encoder = Model(deepautoencoder.input, deepautoencoder.get_layer('bottleneck').output) \n",
        "bottleneck_representation = encoder.predict(sample1) \n",
        "prediction_en= pd.DataFrame(data=bottleneck_representation)\n",
        "print (prediction_en.head())"
      ],
      "execution_count": null,
      "outputs": [
        {
          "output_type": "stream",
          "name": "stdout",
          "text": [
            "WARNING:tensorflow:From /tensorflow-1.15.2/python3.7/tensorflow_core/python/ops/resource_variable_ops.py:1630: calling BaseResourceVariable.__init__ (from tensorflow.python.ops.resource_variable_ops) with constraint is deprecated and will be removed in a future version.\n",
            "Instructions for updating:\n",
            "If using Keras pass *_constraint arguments to layers.\n",
            "Model: \"sequential_1\"\n",
            "_________________________________________________________________\n",
            "Layer (type)                 Output Shape              Param #   \n",
            "=================================================================\n",
            "dense_3 (Dense)              (None, 6)                 72        \n",
            "_________________________________________________________________\n",
            "dense_4 (Dense)              (None, 6)                 42        \n",
            "_________________________________________________________________\n",
            "bottleneck (Dense)           (None, 3)                 21        \n",
            "_________________________________________________________________\n",
            "dense_5 (Dense)              (None, 6)                 24        \n",
            "_________________________________________________________________\n",
            "dense_6 (Dense)              (None, 6)                 42        \n",
            "_________________________________________________________________\n",
            "dense_7 (Dense)              (None, 11)                77        \n",
            "=================================================================\n",
            "Total params: 278\n",
            "Trainable params: 278\n",
            "Non-trainable params: 0\n",
            "_________________________________________________________________\n",
            "WARNING:tensorflow:From /tensorflow-1.15.2/python3.7/keras/backend/tensorflow_backend.py:422: The name tf.global_variables is deprecated. Please use tf.compat.v1.global_variables instead.\n",
            "\n",
            "          0         1         2\n",
            "0  1.301611 -1.583658 -0.226639\n",
            "1 -0.788239 -2.874677 -0.800101\n",
            "2  1.298087  2.613152  2.242341\n",
            "3 -2.080610  2.166172 -0.305540\n",
            "4  0.934134 -3.234272 -1.604539\n"
          ]
        }
      ]
    },
    {
      "cell_type": "code",
      "metadata": {
        "colab": {
          "base_uri": "https://localhost:8080/",
          "height": 728
        },
        "id": "e0GH8yIWLHeC",
        "outputId": "ac705ea7-6b7c-4c0a-a2a6-66cf21c91b71"
      },
      "source": [
        "#print(scaled_data[0:100])\n",
        "Xhat_deepencoder = deepautoencoder.predict(sample1)\n",
        "print (Xhat_deepencoder)\n",
        "mse = mean_squared_error(scaled_data,Xhat_deepencoder )\n",
        "print(mse)\n",
        "r2=r2_score(scaled_data,Xhat_deepencoder)\n",
        "print(r2)\n",
        "print(sample1.shape)\n",
        "prediction_en['max_loading'] = prediction_en.max(axis=1)\n",
        "prediction_en['max_class'] = prediction_en.idxmax(axis=1)\n",
        "sample1['predicted_class_en']=prediction_en['max_class']\n",
        "sample1['predicted_class_en'].value_counts()\n",
        "model_tsne_auto = TSNE(learning_rate = 200, n_components = 2, random_state =None, perplexity = 90, n_iter = 1000, verbose = 1)\n",
        "X_2d =  model_tsne_auto.fit_transform(bottleneck_representation)\n",
        "\n",
        "# # Visualize the data\n",
        "plt.scatter(-X_2d[:, 0], -X_2d[:, 1], c =sample1['predicted_class_en'], cmap = 'tab20') \n",
        "plt.title('tSNE on Autoencoder: n=420') \n",
        "plt.xlabel(\"tSNE1\") \n",
        "plt.ylabel(\"tSNE2\")\n",
        "\n"
      ],
      "execution_count": null,
      "outputs": [
        {
          "output_type": "stream",
          "name": "stdout",
          "text": [
            "[[ 0.15745759  0.45180386  0.20870245 ...  0.81364405  0.9558935\n",
            "   0.85265213]\n",
            " [ 0.2189636   0.13404271  0.5622539  ... -0.20624565 -0.817738\n",
            "  -0.84920883]\n",
            " [-0.65069294 -0.6359357  -0.98853296 ...  0.8048442   0.8610615\n",
            "   0.22164395]\n",
            " ...\n",
            " [-0.5243566  -0.88196945 -0.8807384  ... -0.8104059  -0.50123245\n",
            "  -0.40807888]\n",
            " [ 0.42124742  0.2955516   0.5157963  ... -1.1482304  -0.72402716\n",
            "   0.12074361]\n",
            " [-0.25177327  0.02530481 -0.4270762  ...  1.2080145   1.3908166\n",
            "   0.9154975 ]]\n",
            "0.32288699709682744\n",
            "0.6771130029031723\n",
            "(420, 11)\n",
            "[t-SNE] Computing 271 nearest neighbors...\n",
            "[t-SNE] Indexed 420 samples in 0.000s...\n",
            "[t-SNE] Computed neighbors for 420 samples in 0.026s...\n",
            "[t-SNE] Computed conditional probabilities for sample 420 / 420\n",
            "[t-SNE] Mean sigma: 1.327238\n",
            "[t-SNE] KL divergence after 250 iterations with early exaggeration: 53.173386\n",
            "[t-SNE] KL divergence after 1000 iterations: 0.252817\n"
          ]
        },
        {
          "output_type": "execute_result",
          "data": {
            "text/plain": [
              "Text(0, 0.5, 'tSNE2')"
            ]
          },
          "metadata": {},
          "execution_count": 17
        },
        {
          "output_type": "display_data",
          "data": {
            "image/png": "[encoded data removed]",
            "text/plain": [
              "<Figure size 432x288 with 1 Axes>"
            ]
          },
          "metadata": {
            "needs_background": "light"
          }
        }
      ]
    },
    {
      "cell_type": "code",
      "metadata": {
        "id": "Q2qY2fW4tMA8"
      },
      "source": [
        "sample1.to_csv(\"sample1.csv\")"
      ],
      "execution_count": null,
      "outputs": []
    },
    {
      "cell_type": "code",
      "metadata": {
        "colab": {
          "base_uri": "https://localhost:8080/",
          "height": 611
        },
        "id": "LCFKn5feLHlw",
        "outputId": "7c658e89-c3c3-4bd4-d9d5-49cb9ad3296f"
      },
      "source": [
        "wt=np.round(np.transpose(deepautoencoder.layers[0].get_weights()[0]), 3)\n",
        "encoder_wt=pd.DataFrame(data=wt[0:,0:],\n",
        "  index=[i for i in range(wt.shape[0])],\n",
        "  columns=['C'+str(i) for i in range(1,wt.shape[1]+1)])\n",
        "encoder_wt.shape\n",
        "encoder_wt_abs=abs(encoder_wt)\n",
        "encoder_wt_abs_sort=encoder_wt_abs.sort_values(by=['C1', 'C2','C3'],ascending=False)\n",
        "encoder_wt\n",
        "encoder_wtDf  = pd.DataFrame(encoder_wt, index=[0,1, 2])\n",
        "print(encoder_wtDf.transpose())\n",
        "encoder_wtDf.T"
      ],
      "execution_count": null,
      "outputs": [
        {
          "output_type": "stream",
          "name": "stdout",
          "text": [
            "         0      1      2\n",
            "C1   0.355  0.218  0.384\n",
            "C2  -0.131  0.450 -0.224\n",
            "C3  -0.571  0.121  0.287\n",
            "C4  -0.055  0.146  0.664\n",
            "C5  -0.124  0.441  0.025\n",
            "C6  -0.513 -0.002  0.523\n",
            "C7  -0.292  0.229  0.570\n",
            "C8  -0.309  0.081 -0.301\n",
            "C9  -0.452 -0.260  0.048\n",
            "C10  0.210 -0.018  0.041\n",
            "C11  0.418  0.616 -0.260\n"
          ]
        },
        {
          "output_type": "execute_result",
          "data": {
            "text/html": [
              "<div>\n",
              "<style scoped>\n",
              "    .dataframe tbody tr th:only-of-type {\n",
              "        vertical-align: middle;\n",
              "    }\n",
              "\n",
              "    .dataframe tbody tr th {\n",
              "        vertical-align: top;\n",
              "    }\n",
              "\n",
              "    .dataframe thead th {\n",
              "        text-align: right;\n",
              "    }\n",
              "</style>\n",
              "<table border=\"1\" class=\"dataframe\">\n",
              "  <thead>\n",
              "    <tr style=\"text-align: right;\">\n",
              "      <th></th>\n",
              "      <th>0</th>\n",
              "      <th>1</th>\n",
              "      <th>2</th>\n",
              "    </tr>\n",
              "  </thead>\n",
              "  <tbody>\n",
              "    <tr>\n",
              "      <th>C1</th>\n",
              "      <td>0.355</td>\n",
              "      <td>0.218</td>\n",
              "      <td>0.384</td>\n",
              "    </tr>\n",
              "    <tr>\n",
              "      <th>C2</th>\n",
              "      <td>-0.131</td>\n",
              "      <td>0.450</td>\n",
              "      <td>-0.224</td>\n",
              "    </tr>\n",
              "    <tr>\n",
              "      <th>C3</th>\n",
              "      <td>-0.571</td>\n",
              "      <td>0.121</td>\n",
              "      <td>0.287</td>\n",
              "    </tr>\n",
              "    <tr>\n",
              "      <th>C4</th>\n",
              "      <td>-0.055</td>\n",
              "      <td>0.146</td>\n",
              "      <td>0.664</td>\n",
              "    </tr>\n",
              "    <tr>\n",
              "      <th>C5</th>\n",
              "      <td>-0.124</td>\n",
              "      <td>0.441</td>\n",
              "      <td>0.025</td>\n",
              "    </tr>\n",
              "    <tr>\n",
              "      <th>C6</th>\n",
              "      <td>-0.513</td>\n",
              "      <td>-0.002</td>\n",
              "      <td>0.523</td>\n",
              "    </tr>\n",
              "    <tr>\n",
              "      <th>C7</th>\n",
              "      <td>-0.292</td>\n",
              "      <td>0.229</td>\n",
              "      <td>0.570</td>\n",
              "    </tr>\n",
              "    <tr>\n",
              "      <th>C8</th>\n",
              "      <td>-0.309</td>\n",
              "      <td>0.081</td>\n",
              "      <td>-0.301</td>\n",
              "    </tr>\n",
              "    <tr>\n",
              "      <th>C9</th>\n",
              "      <td>-0.452</td>\n",
              "      <td>-0.260</td>\n",
              "      <td>0.048</td>\n",
              "    </tr>\n",
              "    <tr>\n",
              "      <th>C10</th>\n",
              "      <td>0.210</td>\n",
              "      <td>-0.018</td>\n",
              "      <td>0.041</td>\n",
              "    </tr>\n",
              "    <tr>\n",
              "      <th>C11</th>\n",
              "      <td>0.418</td>\n",
              "      <td>0.616</td>\n",
              "      <td>-0.260</td>\n",
              "    </tr>\n",
              "  </tbody>\n",
              "</table>\n",
              "</div>"
            ],
            "text/plain": [
              "         0      1      2\n",
              "C1   0.355  0.218  0.384\n",
              "C2  -0.131  0.450 -0.224\n",
              "C3  -0.571  0.121  0.287\n",
              "C4  -0.055  0.146  0.664\n",
              "C5  -0.124  0.441  0.025\n",
              "C6  -0.513 -0.002  0.523\n",
              "C7  -0.292  0.229  0.570\n",
              "C8  -0.309  0.081 -0.301\n",
              "C9  -0.452 -0.260  0.048\n",
              "C10  0.210 -0.018  0.041\n",
              "C11  0.418  0.616 -0.260"
            ]
          },
          "metadata": {},
          "execution_count": 19
        }
      ]
    },
    {
      "cell_type": "code",
      "metadata": {
        "colab": {
          "base_uri": "https://localhost:8080/"
        },
        "id": "cznqVPm6LHrc",
        "outputId": "bb8bfbe9-3b0e-48fb-a1c0-8ea7cda871b4"
      },
      "source": [
        "print(type(sample1))\n",
        "\n",
        "#sample1 = sample1.drop('predicted_class_en', 1)\n",
        "print(sample1)\n",
        "print(sample1.iloc[:,0:11])"
      ],
      "execution_count": null,
      "outputs": [
        {
          "output_type": "stream",
          "name": "stdout",
          "text": [
            "<class 'pandas.core.frame.DataFrame'>\n",
            "            0         1        2  ...         9        10  predicted_class_en\n",
            "0    0.715767  0.816521  0.54539  ...  0.428437  1.406925                   0\n",
            "1   -0.051126  0.816521 -0.54539  ... -1.046510 -0.925609                   0\n",
            "2   -1.584913 -0.210242  0.54539  ...  1.165910 -0.148097                   1\n",
            "3   -0.818020 -0.210242  0.54539  ... -1.783983 -0.148097                   1\n",
            "4    1.482661  0.816521  0.54539  ...  1.165910  0.629414                   0\n",
            "..        ...       ...      ...  ...       ...       ...                 ...\n",
            "415 -0.051126  0.816521  0.54539  ... -0.309036 -0.148097                   0\n",
            "416 -0.818020  0.816521  0.54539  ...  0.428437  1.406925                   1\n",
            "417  0.715767 -2.263768 -0.54539  ... -0.309036 -0.148097                   1\n",
            "418 -0.051126 -0.210242  0.54539  ... -1.046510  0.629414                   1\n",
            "419 -1.584913 -0.210242  0.54539  ...  1.165910  1.406925                   0\n",
            "\n",
            "[420 rows x 12 columns]\n",
            "           0         1        2   ...        8         9         10\n",
            "0    0.715767  0.816521  0.54539  ...  1.180047  0.428437  1.406925\n",
            "1   -0.051126  0.816521 -0.54539  ... -0.500020 -1.046510 -0.925609\n",
            "2   -1.584913 -0.210242  0.54539  ...  1.180047  1.165910 -0.148097\n",
            "3   -0.818020 -0.210242  0.54539  ... -0.500020 -1.783983 -0.148097\n",
            "4    1.482661  0.816521  0.54539  ...  0.340014  1.165910  0.629414\n",
            "..        ...       ...      ...  ...       ...       ...       ...\n",
            "415 -0.051126  0.816521  0.54539  ... -1.340054 -0.309036 -0.148097\n",
            "416 -0.818020  0.816521  0.54539  ... -0.500020  0.428437  1.406925\n",
            "417  0.715767 -2.263768 -0.54539  ... -0.500020 -0.309036 -0.148097\n",
            "418 -0.051126 -0.210242  0.54539  ... -1.340054 -1.046510  0.629414\n",
            "419 -1.584913 -0.210242  0.54539  ...  1.180047  1.165910  1.406925\n",
            "\n",
            "[420 rows x 11 columns]\n"
          ]
        }
      ]
    },
    {
      "cell_type": "markdown",
      "metadata": {
        "id": "gLyqmJyaLCUa"
      },
      "source": [
        "encoder on n=100"
      ]
    },
    {
      "cell_type": "code",
      "metadata": {
        "id": "X-SfrugqNEXO"
      },
      "source": [
        "scaler = StandardScaler()\n",
        "scaler.fit(df)\n",
        "scaled_data = scaler.transform(df)"
      ],
      "execution_count": null,
      "outputs": []
    },
    {
      "cell_type": "code",
      "metadata": {
        "colab": {
          "base_uri": "https://localhost:8080/",
          "height": 1000
        },
        "id": "g6n3sA0rZw41",
        "outputId": "7fb8408e-9919-48ac-9be5-4c406bb4b2be"
      },
      "source": [
        "from numpy.random import seed\n",
        "seed(12345678)\n",
        "import random\n",
        "import tensorflow\n",
        "tensorflow.random.set_random_seed(2)\n",
        "\n",
        "nb_epoch = 100\n",
        "batch_size = 16\n",
        "scaled_data=pd.DataFrame(data=scaled_data)\n",
        "sample1=scaled_data.sample(n=100, random_state = 2)\n",
        "sample1=pd.DataFrame(data=sample1)\n",
        "input_dim = sample1.shape[1] #num of predictor variables, \n",
        "encoding_dim = 3\n",
        "learning_rate = 1e-3\n",
        "\n",
        "\n",
        "\n",
        "encoder = Dense(encoding_dim, activation=\"linear\", input_shape=(input_dim,), use_bias = True) \n",
        "decoder = Dense(input_dim, activation=\"linear\", use_bias = True)\n",
        "\n",
        "deepautoencoder = Sequential()\n",
        "\n",
        "\n",
        "\n",
        "# Encoder Layers\n",
        "deepautoencoder.add(Dense( 2*encoding_dim, input_shape=(input_dim,), activation='linear'))\n",
        "deepautoencoder.add(Dense( 2*encoding_dim, activation='linear'))\n",
        "\n",
        "# Decoder Layers\n",
        "deepautoencoder.add(Dense( encoding_dim, activation='linear',name = \"bottleneck\"))\n",
        "deepautoencoder.add(Dense( 2 *encoding_dim, activation='linear'))\n",
        "deepautoencoder.add(Dense(2 * encoding_dim, activation='linear'))\n",
        "deepautoencoder.add(Dense(input_dim, activation='linear'))\n",
        "deepautoencoder.compile(metrics=['accuracy'],loss='mean_squared_error',optimizer='sgd')\n",
        "deepautoencoder.summary()\n",
        "\n",
        "deepautoencoder.fit(sample1, sample1,\n",
        "                epochs=nb_epoch,\n",
        "                batch_size=batch_size,\n",
        "                shuffle=False,\n",
        "                verbose=0)\n",
        "encoder = Model(deepautoencoder.input, deepautoencoder.get_layer('bottleneck').output) \n",
        "bottleneck_representation = encoder.predict(sample1) \n",
        "prediction_en= pd.DataFrame(data=bottleneck_representation)\n",
        "print (prediction_en.head())\n",
        "prediction_en['max_loading'] = prediction_en.max(axis=1)\n",
        "prediction_en['max_class'] = prediction_en.idxmax(axis=1)\n",
        "print(prediction_en)\n",
        "sample1['predicted_class_en']=prediction_en['max_class']\n",
        "print(sample1['predicted_class_en'].value_counts())\n",
        "model_tsne_auto = TSNE(learning_rate = 200, n_components = 2, random_state =None, perplexity = 90, n_iter = 1000, verbose = 1)\n",
        "X_2d =  model_tsne_auto.fit_transform(bottleneck_representation)\n",
        "print(X_2d.shape)\n",
        "# # Visualize the data\n",
        "plt.scatter(-X_2d[:, 0], -X_2d[:, 1], c=prediction_en['max_class'], cmap = 'tab20') \n",
        "plt.title('tSNE on Autoencoder: n=100') \n",
        "plt.xlabel(\"tSNE1\") \n",
        "plt.ylabel(\"tSNE2\")\n",
        "\n",
        "print(scaled_data[0:100])\n",
        "# Xhat_deepencoder = deepautoencoder.predict(sample1.iloc[:,0:11])\n",
        "# print (Xhat_deepencoder)\n",
        "# mse = mean_squared_error(sample1.iloc[:,0:11],Xhat_deepencoder )\n",
        "# print(mse)\n",
        "# r2=r2_score(sample1.iloc[:,0:11],Xhat_deepencoder)\n",
        "# print(r2)"
      ],
      "execution_count": null,
      "outputs": [
        {
          "output_type": "stream",
          "name": "stdout",
          "text": [
            "Model: \"sequential_6\"\n",
            "_________________________________________________________________\n",
            "Layer (type)                 Output Shape              Param #   \n",
            "=================================================================\n",
            "dense_34 (Dense)             (None, 6)                 72        \n",
            "_________________________________________________________________\n",
            "dense_35 (Dense)             (None, 6)                 42        \n",
            "_________________________________________________________________\n",
            "bottleneck (Dense)           (None, 3)                 21        \n",
            "_________________________________________________________________\n",
            "dense_36 (Dense)             (None, 6)                 24        \n",
            "_________________________________________________________________\n",
            "dense_37 (Dense)             (None, 6)                 42        \n",
            "_________________________________________________________________\n",
            "dense_38 (Dense)             (None, 11)                77        \n",
            "=================================================================\n",
            "Total params: 278\n",
            "Trainable params: 278\n",
            "Non-trainable params: 0\n",
            "_________________________________________________________________\n",
            "          0         1         2\n",
            "0 -0.647633 -0.335190 -0.780326\n",
            "1  0.026953  5.677693  3.652382\n",
            "2 -0.124825  1.618298  0.231841\n",
            "3  1.258795 -3.511662 -1.380781\n",
            "4  0.877048 -3.456688 -0.827892\n",
            "           0         1         2  max_loading  max_class\n",
            "0  -0.647633 -0.335190 -0.780326    -0.335190          1\n",
            "1   0.026953  5.677693  3.652382     5.677693          1\n",
            "2  -0.124825  1.618298  0.231841     1.618298          1\n",
            "3   1.258795 -3.511662 -1.380781     1.258795          0\n",
            "4   0.877048 -3.456688 -0.827892     0.877048          0\n",
            "..       ...       ...       ...          ...        ...\n",
            "95 -0.362371 -0.170123  0.455148     0.455148          2\n",
            "96 -0.270021 -1.356885 -0.129268    -0.129268          2\n",
            "97 -2.795326  7.257735  0.867327     7.257735          1\n",
            "98  0.833478 -1.240831 -0.222878     0.833478          0\n",
            "99 -1.629421  5.215830  1.958993     5.215830          1\n",
            "\n",
            "[100 rows x 5 columns]\n",
            "0.0    11\n",
            "1.0    10\n",
            "2.0     2\n",
            "Name: predicted_class_en, dtype: int64\n",
            "[t-SNE] Computing 99 nearest neighbors...\n",
            "[t-SNE] Indexed 100 samples in 0.000s...\n",
            "[t-SNE] Computed neighbors for 100 samples in 0.004s...\n",
            "[t-SNE] Computed conditional probabilities for sample 100 / 100\n",
            "[t-SNE] Mean sigma: 6.085445\n",
            "[t-SNE] KL divergence after 250 iterations with early exaggeration: 40.636158\n",
            "[t-SNE] KL divergence after 900 iterations: 0.001986\n",
            "(100, 2)\n",
            "          0         1         2   ...        8         9         10\n",
            "0   0.715767  0.816521  0.545390  ...  1.180047  0.428437  1.406925\n",
            "1  -0.051126  0.816521 -0.545390  ... -0.500020 -1.046510 -0.925609\n",
            "2  -1.584913 -0.210242  0.545390  ...  1.180047  1.165910 -0.148097\n",
            "3  -0.818020 -0.210242  0.545390  ... -0.500020 -1.783983 -0.148097\n",
            "4   1.482661  0.816521  0.545390  ...  0.340014  1.165910  0.629414\n",
            "..       ...       ...       ...  ...       ...       ...       ...\n",
            "95  0.715767 -0.210242  0.545390  ...  0.340014 -0.309036 -0.148097\n",
            "96  0.715767  0.816521  0.545390  ... -0.500020 -0.309036 -0.148097\n",
            "97  1.482661  0.816521 -0.545390  ... -1.340054 -0.309036 -0.925609\n",
            "98 -0.051126 -1.237005 -2.726951  ... -0.500020 -1.046510 -0.925609\n",
            "99 -0.051126  0.816521  0.545390  ... -0.500020  1.165910  1.406925\n",
            "\n",
            "[100 rows x 11 columns]\n"
          ]
        },
        {
          "output_type": "display_data",
          "data": {
            "image/png": "[encoded data removed]",
            "text/plain": [
              "<Figure size 432x288 with 1 Axes>"
            ]
          },
          "metadata": {
            "needs_background": "light"
          }
        }
      ]
    },
    {
      "cell_type": "code",
      "metadata": {
        "colab": {
          "base_uri": "https://localhost:8080/",
          "height": 611
        },
        "id": "zahye4vGZw7p",
        "outputId": "994e3cc2-9f35-4256-cfc9-303e5d6ff216"
      },
      "source": [
        "wt=np.round(np.transpose(deepautoencoder.layers[0].get_weights()[0]), 3)\n",
        "encoder_wt=pd.DataFrame(data=wt[0:,0:],\n",
        "  index=[i for i in range(wt.shape[0])],\n",
        "  columns=['C'+str(i) for i in range(1,wt.shape[1]+1)])\n",
        "encoder_wt.shape\n",
        "encoder_wt_abs=abs(encoder_wt)\n",
        "encoder_wt_abs_sort=encoder_wt_abs.sort_values(by=['C1', 'C2','C3'],ascending=False)\n",
        "encoder_wt\n",
        "encoder_wtDf  = pd.DataFrame(encoder_wt, index=[0,1, 2])\n",
        "print(encoder_wtDf.transpose())\n",
        "encoder_wtDf.T\n",
        "\n"
      ],
      "execution_count": null,
      "outputs": [
        {
          "output_type": "stream",
          "name": "stdout",
          "text": [
            "         0      1      2\n",
            "C1   0.423  0.112  0.263\n",
            "C2  -0.008  0.384 -0.128\n",
            "C3  -0.651  0.088  0.338\n",
            "C4  -0.036  0.216  0.559\n",
            "C5  -0.243  0.373  0.158\n",
            "C6  -0.462 -0.173  0.471\n",
            "C7  -0.246  0.363  0.594\n",
            "C8  -0.013  0.148 -0.491\n",
            "C9  -0.622 -0.288 -0.042\n",
            "C10  0.137 -0.073  0.102\n",
            "C11  0.145  0.527 -0.150\n"
          ]
        },
        {
          "output_type": "execute_result",
          "data": {
            "text/html": [
              "<div>\n",
              "<style scoped>\n",
              "    .dataframe tbody tr th:only-of-type {\n",
              "        vertical-align: middle;\n",
              "    }\n",
              "\n",
              "    .dataframe tbody tr th {\n",
              "        vertical-align: top;\n",
              "    }\n",
              "\n",
              "    .dataframe thead th {\n",
              "        text-align: right;\n",
              "    }\n",
              "</style>\n",
              "<table border=\"1\" class=\"dataframe\">\n",
              "  <thead>\n",
              "    <tr style=\"text-align: right;\">\n",
              "      <th></th>\n",
              "      <th>0</th>\n",
              "      <th>1</th>\n",
              "      <th>2</th>\n",
              "    </tr>\n",
              "  </thead>\n",
              "  <tbody>\n",
              "    <tr>\n",
              "      <th>C1</th>\n",
              "      <td>0.423</td>\n",
              "      <td>0.112</td>\n",
              "      <td>0.263</td>\n",
              "    </tr>\n",
              "    <tr>\n",
              "      <th>C2</th>\n",
              "      <td>-0.008</td>\n",
              "      <td>0.384</td>\n",
              "      <td>-0.128</td>\n",
              "    </tr>\n",
              "    <tr>\n",
              "      <th>C3</th>\n",
              "      <td>-0.651</td>\n",
              "      <td>0.088</td>\n",
              "      <td>0.338</td>\n",
              "    </tr>\n",
              "    <tr>\n",
              "      <th>C4</th>\n",
              "      <td>-0.036</td>\n",
              "      <td>0.216</td>\n",
              "      <td>0.559</td>\n",
              "    </tr>\n",
              "    <tr>\n",
              "      <th>C5</th>\n",
              "      <td>-0.243</td>\n",
              "      <td>0.373</td>\n",
              "      <td>0.158</td>\n",
              "    </tr>\n",
              "    <tr>\n",
              "      <th>C6</th>\n",
              "      <td>-0.462</td>\n",
              "      <td>-0.173</td>\n",
              "      <td>0.471</td>\n",
              "    </tr>\n",
              "    <tr>\n",
              "      <th>C7</th>\n",
              "      <td>-0.246</td>\n",
              "      <td>0.363</td>\n",
              "      <td>0.594</td>\n",
              "    </tr>\n",
              "    <tr>\n",
              "      <th>C8</th>\n",
              "      <td>-0.013</td>\n",
              "      <td>0.148</td>\n",
              "      <td>-0.491</td>\n",
              "    </tr>\n",
              "    <tr>\n",
              "      <th>C9</th>\n",
              "      <td>-0.622</td>\n",
              "      <td>-0.288</td>\n",
              "      <td>-0.042</td>\n",
              "    </tr>\n",
              "    <tr>\n",
              "      <th>C10</th>\n",
              "      <td>0.137</td>\n",
              "      <td>-0.073</td>\n",
              "      <td>0.102</td>\n",
              "    </tr>\n",
              "    <tr>\n",
              "      <th>C11</th>\n",
              "      <td>0.145</td>\n",
              "      <td>0.527</td>\n",
              "      <td>-0.150</td>\n",
              "    </tr>\n",
              "  </tbody>\n",
              "</table>\n",
              "</div>"
            ],
            "text/plain": [
              "         0      1      2\n",
              "C1   0.423  0.112  0.263\n",
              "C2  -0.008  0.384 -0.128\n",
              "C3  -0.651  0.088  0.338\n",
              "C4  -0.036  0.216  0.559\n",
              "C5  -0.243  0.373  0.158\n",
              "C6  -0.462 -0.173  0.471\n",
              "C7  -0.246  0.363  0.594\n",
              "C8  -0.013  0.148 -0.491\n",
              "C9  -0.622 -0.288 -0.042\n",
              "C10  0.137 -0.073  0.102\n",
              "C11  0.145  0.527 -0.150"
            ]
          },
          "metadata": {},
          "execution_count": 28
        }
      ]
    },
    {
      "cell_type": "code",
      "metadata": {
        "id": "8Qs9sF4kZw-M"
      },
      "source": [
        "#C1 :I enjoy collecting and calculating statistics of my favorite basketball team.\n",
        "#C5 :I enjoy reading articles about basketball players, teams, events, and games.\n",
        "#C10 :I am eager to learn more about basketball.\n",
        "#C11 :I enjoy any movement that occurs during a basketball game.\n",
        "\n",
        "#C2 :I often imagine how my favorite basketball team is playing to defeat their opponent.\n",
        "#C3 :I enjoy exploring my favorite basketball stadiums or facilities.\n",
        "#C6 :I am interested in learning how much it costs to build a brand new basketball stadium.\n",
        "#C8 :I am interested in learning how large a basketball court is.\n",
        "\n",
        "#C4 :Watching basketball games with my friends is joyful.\n",
        "#C7 :When I miss a game, I often look for information on television, the internet, or newspaper to catch the game results.\n",
        "#C9 :I enjoy probing deeply into basketball."
      ],
      "execution_count": null,
      "outputs": []
    },
    {
      "cell_type": "code",
      "metadata": {
        "id": "4hyzce01ZxAu"
      },
      "source": [
        ""
      ],
      "execution_count": null,
      "outputs": []
    },
    {
      "cell_type": "markdown",
      "metadata": {
        "id": "zx876_ChuKsF"
      },
      "source": [
        "PCA on n=100"
      ]
    },
    {
      "cell_type": "code",
      "metadata": {
        "id": "-lMPlt3ZM_r9"
      },
      "source": [
        "scaler = StandardScaler()\n",
        "scaler.fit(df)\n",
        "scaled_data = scaler.transform(df)"
      ],
      "execution_count": null,
      "outputs": []
    },
    {
      "cell_type": "code",
      "metadata": {
        "colab": {
          "base_uri": "https://localhost:8080/"
        },
        "id": "xLTZGSKnuJwp",
        "outputId": "72e36753-f2af-46be-bd53-6f26d91ee32f"
      },
      "source": [
        "import numpy as np\n",
        "import sklearn.datasets, sklearn.decomposition\n",
        "sample1=scaled_data[0:100]\n",
        "sample1=pd.DataFrame(data=sample1)\n",
        "\n",
        "mu = np.mean(sample1, axis=0)\n",
        "\n",
        "pca = sklearn.decomposition.PCA()\n",
        "pca_fit=pca.fit_transform(sample1)\n",
        "print(pca_fit)\n",
        "nComp = 3\n",
        "Xhat = np.dot(pca.transform(sample1)[:,:nComp], pca.components_[:nComp,:])\n",
        "Xhat += mu\n",
        "print(Xhat[0:3,])\n",
        "print(sample1.shape)\n",
        "print(Xhat.shape)"
      ],
      "execution_count": null,
      "outputs": [
        {
          "output_type": "stream",
          "name": "stdout",
          "text": [
            "[[-1.36354890e+00 -1.07299552e+00  3.00306506e-01 ... -7.36197574e-01\n",
            "   1.71575605e-01  5.87727090e-02]\n",
            " [-3.64313253e-01  1.78776506e+00  5.61770194e-01 ...  2.16653438e-01\n",
            "  -5.69792159e-01 -7.28699437e-02]\n",
            " [ 1.03543129e+00 -1.97819763e+00  1.85040038e+00 ... -6.13643149e-01\n",
            "   3.23901704e-01  2.52542525e-01]\n",
            " ...\n",
            " [-5.64718942e-02  1.92964399e+00 -1.50537209e+00 ...  2.85978280e-04\n",
            "   6.80495227e-01  4.70580606e-01]\n",
            " [ 4.15313600e+00 -2.29479641e-01 -5.52532939e-01 ...  2.61255047e-01\n",
            "  -1.90663521e-01 -8.47504616e-02]\n",
            " [-2.03049147e+00 -3.94968842e-01 -4.02077961e-01 ...  3.28918675e-01\n",
            "   1.28398117e-01  6.31878842e-02]]\n",
            "[[-0.23980465  0.4695544   0.38051167  0.40701319  0.2241351   0.49773642\n",
            "   0.50980132  0.47745202  0.92546013  0.92221807  0.96121353]\n",
            " [ 0.18513803  0.37782809  0.55334621  0.58397457  0.29214119  0.61403192\n",
            "   0.57354912  0.67980694 -0.51956457 -0.9442418  -0.87336531]\n",
            " [-1.9654799  -0.2885768  -0.24774915 -0.2691464  -1.32786574 -0.35716687\n",
            "  -0.44260841 -0.04327592  0.73612676  0.65707614  0.57558294]]\n",
            "(100, 11)\n",
            "(100, 11)\n"
          ]
        }
      ]
    },
    {
      "cell_type": "code",
      "metadata": {
        "colab": {
          "base_uri": "https://localhost:8080/"
        },
        "id": "UZPw5qDT0Vup",
        "outputId": "4731740a-71d4-4a77-cc23-706e68af22dc"
      },
      "source": [
        "Xhat_argmax=Xhat[:,0:3].argmax(axis=1)\n",
        "sample1['max_loading'] = Xhat.max(axis=1)\n",
        "sample1['max_class'] = np.expand_dims(Xhat_argmax, axis=1)\n",
        "sample1['predicted_class']=sample1['max_class']\n",
        "sample1['predicted_class'].value_counts()\n"
      ],
      "execution_count": null,
      "outputs": [
        {
          "output_type": "execute_result",
          "data": {
            "text/plain": [
              "0    48\n",
              "2    29\n",
              "1    23\n",
              "Name: predicted_class, dtype: int64"
            ]
          },
          "metadata": {},
          "execution_count": 33
        }
      ]
    },
    {
      "cell_type": "code",
      "metadata": {
        "colab": {
          "base_uri": "https://localhost:8080/",
          "height": 439
        },
        "id": "yCoTWlDxuQLX",
        "outputId": "802f567a-a84c-4ba8-9e73-ea66ca287ba0"
      },
      "source": [
        "from numpy.random import seed\n",
        "seed(12345678)\n",
        "from tensorflow import set_random_seed\n",
        "set_random_seed(2)\n",
        "\n",
        "model_tsne_auto = TSNE(learning_rate = 200, n_components = 2, random_state =None, perplexity = 90, n_iter = 1000, verbose = 1)\n",
        "X_2d =  model_tsne_auto.fit_transform(pca_fit)\n",
        "prediction_en= pd.DataFrame(data=pca_fit)\n",
        "# # Visualize the data\n",
        "plt.scatter(-X_2d[:, 0], -X_2d[:, 1], c =sample1['predicted_class'], cmap = 'tab20') \n",
        "plt.title('tSNE on PCA: n=100') \n",
        "plt.xlabel(\"tSNE1\") \n",
        "plt.ylabel(\"tSNE2\")\n",
        "\n"
      ],
      "execution_count": null,
      "outputs": [
        {
          "output_type": "stream",
          "name": "stdout",
          "text": [
            "[t-SNE] Computing 99 nearest neighbors...\n",
            "[t-SNE] Indexed 100 samples in 0.001s...\n",
            "[t-SNE] Computed neighbors for 100 samples in 0.002s...\n",
            "[t-SNE] Computed conditional probabilities for sample 100 / 100\n",
            "[t-SNE] Mean sigma: 4.406221\n",
            "[t-SNE] KL divergence after 250 iterations with early exaggeration: 43.542862\n",
            "[t-SNE] KL divergence after 900 iterations: 0.013819\n"
          ]
        },
        {
          "output_type": "execute_result",
          "data": {
            "text/plain": [
              "Text(0, 0.5, 'tSNE2')"
            ]
          },
          "metadata": {},
          "execution_count": 34
        },
        {
          "output_type": "display_data",
          "data": {
            "image/png": "[encoded data removed]",
            "text/plain": [
              "<Figure size 432x288 with 1 Axes>"
            ]
          },
          "metadata": {
            "needs_background": "light"
          }
        }
      ]
    },
    {
      "cell_type": "code",
      "metadata": {
        "colab": {
          "base_uri": "https://localhost:8080/"
        },
        "id": "IpIK-XEXvzy2",
        "outputId": "b4d2b859-6770-4052-b1d2-f1963f05cfbc"
      },
      "source": [
        "#print(scaled_data[0:100])\n",
        "Xhat_deepencoder = deepautoencoder.predict(scaled_data[0:100])\n",
        "print (Xhat_deepencoder)\n",
        "mse = mean_squared_error(scaled_data[0:100],Xhat_deepencoder )\n",
        "print(mse)\n",
        "r2=r2_score(scaled_data[0:100],Xhat_deepencoder)\n",
        "print(r2)"
      ],
      "execution_count": null,
      "outputs": [
        {
          "output_type": "stream",
          "name": "stdout",
          "text": [
            "[[ 2.2662666e-01  5.0576156e-01  5.9709840e-02 ...  5.3504169e-01\n",
            "   5.5196840e-01  3.9396337e-01]\n",
            " [ 3.6095092e-01  1.3564558e-01  3.4270638e-01 ...  3.0995354e-01\n",
            "   1.9180430e-01 -7.2806612e-02]\n",
            " [-4.3740192e-01 -3.2316729e-01 -1.0057379e+00 ...  1.8291473e-03\n",
            "   2.6512876e-01 -5.7957251e-02]\n",
            " ...\n",
            " [-2.5309920e-03  1.4331675e-01 -3.3651659e-01 ...  3.4245339e-01\n",
            "   4.5342085e-01  1.5949360e-01]\n",
            " [-9.9531412e-01 -1.4557399e+00 -2.0708888e+00 ... -4.8800609e-01\n",
            "   3.7669796e-02 -8.8579863e-01]\n",
            " [ 4.9943140e-01  1.0795728e+00  5.4449332e-01 ...  8.2100511e-01\n",
            "   7.3139149e-01  8.2020056e-01]]\n",
            "0.4402996503755542\n",
            "0.5387544819357197\n"
          ]
        }
      ]
    },
    {
      "cell_type": "code",
      "metadata": {
        "id": "a6QDdSELlMAR"
      },
      "source": [
        ""
      ],
      "execution_count": null,
      "outputs": []
    }
  ]
}